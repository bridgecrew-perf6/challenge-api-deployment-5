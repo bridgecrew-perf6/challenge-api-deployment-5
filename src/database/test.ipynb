{
 "metadata": {
  "language_info": {
   "codemirror_mode": {
    "name": "ipython",
    "version": 3
   },
   "file_extension": ".py",
   "mimetype": "text/x-python",
   "name": "python",
   "nbconvert_exporter": "python",
   "pygments_lexer": "ipython3",
   "version": "3.8.5-final"
  },
  "orig_nbformat": 2,
  "kernelspec": {
   "name": "python3",
   "display_name": "Python 3",
   "language": "python"
  }
 },
 "nbformat": 4,
 "nbformat_minor": 2,
 "cells": [
  {
   "cell_type": "code",
   "execution_count": 1,
   "metadata": {},
   "outputs": [],
   "source": [
    "import pandas\n",
    "import pickle\n",
    "properties_df = pickle.load(open('properties_df.pickle', 'rb'))"
   ]
  },
  {
   "cell_type": "code",
   "execution_count": 2,
   "metadata": {},
   "outputs": [
    {
     "output_type": "execute_result",
     "data": {
      "text/plain": [
       "               price  is_house subtype_property   area  num_rooms  \\\n",
       "immoweb_id                                                          \n",
       "9074272     219000.0       0.0        PENTHOUSE   90.0        2.0   \n",
       "9063818     754500.0       0.0        PENTHOUSE  159.0        2.0   \n",
       "9066369     385000.0       0.0        PENTHOUSE  128.0        2.0   \n",
       "9071922     227500.0       0.0           DUPLEX   90.0        2.0   \n",
       "9059600     615000.0       0.0        PENTHOUSE  169.0        3.0   \n",
       "...              ...       ...              ...    ...        ...   \n",
       "9045748     179000.0       0.0     GROUND_FLOOR    NaN        1.0   \n",
       "8923833     199000.0       0.0           DUPLEX  120.0        2.0   \n",
       "8925238     209000.0       0.0             LOFT    NaN        0.0   \n",
       "9011161     219000.0       0.0              KOT    NaN        2.0   \n",
       "9010561     229000.0       0.0           DUPLEX  100.0        2.0   \n",
       "\n",
       "            postal_code region  garden  garden_area  terrace  terrace_area  \\\n",
       "immoweb_id                                                                   \n",
       "9074272          8930.0      F     0.0          NaN      1.0         110.0   \n",
       "9063818          1200.0      B     0.0          NaN      1.0          74.0   \n",
       "9066369          1180.0      B     0.0          NaN      1.0          18.0   \n",
       "9071922          1785.0      F     0.0          NaN      1.0           5.0   \n",
       "9059600          1200.0      B     0.0          NaN      1.0          86.0   \n",
       "...                 ...    ...     ...          ...      ...           ...   \n",
       "9045748          8400.0      F     0.0          NaN      0.0           NaN   \n",
       "8923833          1080.0      B     1.0         30.0      1.0           9.0   \n",
       "8925238          7700.0      W     0.0          NaN      0.0           NaN   \n",
       "9011161          2800.0      F     0.0          NaN      0.0           NaN   \n",
       "9010561          3680.0      F     0.0          NaN      1.0           NaN   \n",
       "\n",
       "            num_facades building_state  equipped_kitchen  furnished  \\\n",
       "immoweb_id                                                            \n",
       "9074272             3.0           good               1.0        0.0   \n",
       "9063818             NaN            new               1.0        0.0   \n",
       "9066369             2.0            new               1.0        0.0   \n",
       "9071922             2.0           good               1.0        0.0   \n",
       "9059600             NaN            new               1.0        0.0   \n",
       "...                 ...            ...               ...        ...   \n",
       "9045748             NaN           None               NaN        0.0   \n",
       "8923833             2.0    to_renovate               NaN        0.0   \n",
       "8925238             NaN           None               NaN        0.0   \n",
       "9011161             2.0           None               NaN        0.0   \n",
       "9010561             NaN           None               NaN        0.0   \n",
       "\n",
       "            open_fire  swimming_pool  land_area  \n",
       "immoweb_id                                       \n",
       "9074272           0.0            0.0        NaN  \n",
       "9063818           0.0            0.0        NaN  \n",
       "9066369           0.0            0.0        NaN  \n",
       "9071922           0.0            0.0        NaN  \n",
       "9059600           0.0            0.0        NaN  \n",
       "...               ...            ...        ...  \n",
       "9045748           0.0            0.0        NaN  \n",
       "8923833           0.0            0.0        NaN  \n",
       "8925238           0.0            0.0        NaN  \n",
       "9011161           0.0            0.0        NaN  \n",
       "9010561           0.0            0.0        NaN  \n",
       "\n",
       "[9190 rows x 18 columns]"
      ],
      "text/html": "<div>\n<style scoped>\n    .dataframe tbody tr th:only-of-type {\n        vertical-align: middle;\n    }\n\n    .dataframe tbody tr th {\n        vertical-align: top;\n    }\n\n    .dataframe thead th {\n        text-align: right;\n    }\n</style>\n<table border=\"1\" class=\"dataframe\">\n  <thead>\n    <tr style=\"text-align: right;\">\n      <th></th>\n      <th>price</th>\n      <th>is_house</th>\n      <th>subtype_property</th>\n      <th>area</th>\n      <th>num_rooms</th>\n      <th>postal_code</th>\n      <th>region</th>\n      <th>garden</th>\n      <th>garden_area</th>\n      <th>terrace</th>\n      <th>terrace_area</th>\n      <th>num_facades</th>\n      <th>building_state</th>\n      <th>equipped_kitchen</th>\n      <th>furnished</th>\n      <th>open_fire</th>\n      <th>swimming_pool</th>\n      <th>land_area</th>\n    </tr>\n    <tr>\n      <th>immoweb_id</th>\n      <th></th>\n      <th></th>\n      <th></th>\n      <th></th>\n      <th></th>\n      <th></th>\n      <th></th>\n      <th></th>\n      <th></th>\n      <th></th>\n      <th></th>\n      <th></th>\n      <th></th>\n      <th></th>\n      <th></th>\n      <th></th>\n      <th></th>\n      <th></th>\n    </tr>\n  </thead>\n  <tbody>\n    <tr>\n      <th>9074272</th>\n      <td>219000.0</td>\n      <td>0.0</td>\n      <td>PENTHOUSE</td>\n      <td>90.0</td>\n      <td>2.0</td>\n      <td>8930.0</td>\n      <td>F</td>\n      <td>0.0</td>\n      <td>NaN</td>\n      <td>1.0</td>\n      <td>110.0</td>\n      <td>3.0</td>\n      <td>good</td>\n      <td>1.0</td>\n      <td>0.0</td>\n      <td>0.0</td>\n      <td>0.0</td>\n      <td>NaN</td>\n    </tr>\n    <tr>\n      <th>9063818</th>\n      <td>754500.0</td>\n      <td>0.0</td>\n      <td>PENTHOUSE</td>\n      <td>159.0</td>\n      <td>2.0</td>\n      <td>1200.0</td>\n      <td>B</td>\n      <td>0.0</td>\n      <td>NaN</td>\n      <td>1.0</td>\n      <td>74.0</td>\n      <td>NaN</td>\n      <td>new</td>\n      <td>1.0</td>\n      <td>0.0</td>\n      <td>0.0</td>\n      <td>0.0</td>\n      <td>NaN</td>\n    </tr>\n    <tr>\n      <th>9066369</th>\n      <td>385000.0</td>\n      <td>0.0</td>\n      <td>PENTHOUSE</td>\n      <td>128.0</td>\n      <td>2.0</td>\n      <td>1180.0</td>\n      <td>B</td>\n      <td>0.0</td>\n      <td>NaN</td>\n      <td>1.0</td>\n      <td>18.0</td>\n      <td>2.0</td>\n      <td>new</td>\n      <td>1.0</td>\n      <td>0.0</td>\n      <td>0.0</td>\n      <td>0.0</td>\n      <td>NaN</td>\n    </tr>\n    <tr>\n      <th>9071922</th>\n      <td>227500.0</td>\n      <td>0.0</td>\n      <td>DUPLEX</td>\n      <td>90.0</td>\n      <td>2.0</td>\n      <td>1785.0</td>\n      <td>F</td>\n      <td>0.0</td>\n      <td>NaN</td>\n      <td>1.0</td>\n      <td>5.0</td>\n      <td>2.0</td>\n      <td>good</td>\n      <td>1.0</td>\n      <td>0.0</td>\n      <td>0.0</td>\n      <td>0.0</td>\n      <td>NaN</td>\n    </tr>\n    <tr>\n      <th>9059600</th>\n      <td>615000.0</td>\n      <td>0.0</td>\n      <td>PENTHOUSE</td>\n      <td>169.0</td>\n      <td>3.0</td>\n      <td>1200.0</td>\n      <td>B</td>\n      <td>0.0</td>\n      <td>NaN</td>\n      <td>1.0</td>\n      <td>86.0</td>\n      <td>NaN</td>\n      <td>new</td>\n      <td>1.0</td>\n      <td>0.0</td>\n      <td>0.0</td>\n      <td>0.0</td>\n      <td>NaN</td>\n    </tr>\n    <tr>\n      <th>...</th>\n      <td>...</td>\n      <td>...</td>\n      <td>...</td>\n      <td>...</td>\n      <td>...</td>\n      <td>...</td>\n      <td>...</td>\n      <td>...</td>\n      <td>...</td>\n      <td>...</td>\n      <td>...</td>\n      <td>...</td>\n      <td>...</td>\n      <td>...</td>\n      <td>...</td>\n      <td>...</td>\n      <td>...</td>\n      <td>...</td>\n    </tr>\n    <tr>\n      <th>9045748</th>\n      <td>179000.0</td>\n      <td>0.0</td>\n      <td>GROUND_FLOOR</td>\n      <td>NaN</td>\n      <td>1.0</td>\n      <td>8400.0</td>\n      <td>F</td>\n      <td>0.0</td>\n      <td>NaN</td>\n      <td>0.0</td>\n      <td>NaN</td>\n      <td>NaN</td>\n      <td>None</td>\n      <td>NaN</td>\n      <td>0.0</td>\n      <td>0.0</td>\n      <td>0.0</td>\n      <td>NaN</td>\n    </tr>\n    <tr>\n      <th>8923833</th>\n      <td>199000.0</td>\n      <td>0.0</td>\n      <td>DUPLEX</td>\n      <td>120.0</td>\n      <td>2.0</td>\n      <td>1080.0</td>\n      <td>B</td>\n      <td>1.0</td>\n      <td>30.0</td>\n      <td>1.0</td>\n      <td>9.0</td>\n      <td>2.0</td>\n      <td>to_renovate</td>\n      <td>NaN</td>\n      <td>0.0</td>\n      <td>0.0</td>\n      <td>0.0</td>\n      <td>NaN</td>\n    </tr>\n    <tr>\n      <th>8925238</th>\n      <td>209000.0</td>\n      <td>0.0</td>\n      <td>LOFT</td>\n      <td>NaN</td>\n      <td>0.0</td>\n      <td>7700.0</td>\n      <td>W</td>\n      <td>0.0</td>\n      <td>NaN</td>\n      <td>0.0</td>\n      <td>NaN</td>\n      <td>NaN</td>\n      <td>None</td>\n      <td>NaN</td>\n      <td>0.0</td>\n      <td>0.0</td>\n      <td>0.0</td>\n      <td>NaN</td>\n    </tr>\n    <tr>\n      <th>9011161</th>\n      <td>219000.0</td>\n      <td>0.0</td>\n      <td>KOT</td>\n      <td>NaN</td>\n      <td>2.0</td>\n      <td>2800.0</td>\n      <td>F</td>\n      <td>0.0</td>\n      <td>NaN</td>\n      <td>0.0</td>\n      <td>NaN</td>\n      <td>2.0</td>\n      <td>None</td>\n      <td>NaN</td>\n      <td>0.0</td>\n      <td>0.0</td>\n      <td>0.0</td>\n      <td>NaN</td>\n    </tr>\n    <tr>\n      <th>9010561</th>\n      <td>229000.0</td>\n      <td>0.0</td>\n      <td>DUPLEX</td>\n      <td>100.0</td>\n      <td>2.0</td>\n      <td>3680.0</td>\n      <td>F</td>\n      <td>0.0</td>\n      <td>NaN</td>\n      <td>1.0</td>\n      <td>NaN</td>\n      <td>NaN</td>\n      <td>None</td>\n      <td>NaN</td>\n      <td>0.0</td>\n      <td>0.0</td>\n      <td>0.0</td>\n      <td>NaN</td>\n    </tr>\n  </tbody>\n</table>\n<p>9190 rows × 18 columns</p>\n</div>"
     },
     "metadata": {},
     "execution_count": 2
    }
   ],
   "source": [
    "properties_df"
   ]
  },
  {
   "cell_type": "code",
   "execution_count": 3,
   "metadata": {},
   "outputs": [],
   "source": [
    "properties_df['immoweb_id'] = properties_df.index"
   ]
  },
  {
   "cell_type": "code",
   "execution_count": 4,
   "metadata": {},
   "outputs": [
    {
     "output_type": "execute_result",
     "data": {
      "text/plain": [
       "               price  is_house subtype_property   area  num_rooms  \\\n",
       "immoweb_id                                                          \n",
       "9074272     219000.0       0.0        PENTHOUSE   90.0        2.0   \n",
       "9063818     754500.0       0.0        PENTHOUSE  159.0        2.0   \n",
       "9066369     385000.0       0.0        PENTHOUSE  128.0        2.0   \n",
       "9071922     227500.0       0.0           DUPLEX   90.0        2.0   \n",
       "9059600     615000.0       0.0        PENTHOUSE  169.0        3.0   \n",
       "...              ...       ...              ...    ...        ...   \n",
       "9045748     179000.0       0.0     GROUND_FLOOR    NaN        1.0   \n",
       "8923833     199000.0       0.0           DUPLEX  120.0        2.0   \n",
       "8925238     209000.0       0.0             LOFT    NaN        0.0   \n",
       "9011161     219000.0       0.0              KOT    NaN        2.0   \n",
       "9010561     229000.0       0.0           DUPLEX  100.0        2.0   \n",
       "\n",
       "            postal_code region  garden  garden_area  terrace  terrace_area  \\\n",
       "immoweb_id                                                                   \n",
       "9074272          8930.0      F     0.0          NaN      1.0         110.0   \n",
       "9063818          1200.0      B     0.0          NaN      1.0          74.0   \n",
       "9066369          1180.0      B     0.0          NaN      1.0          18.0   \n",
       "9071922          1785.0      F     0.0          NaN      1.0           5.0   \n",
       "9059600          1200.0      B     0.0          NaN      1.0          86.0   \n",
       "...                 ...    ...     ...          ...      ...           ...   \n",
       "9045748          8400.0      F     0.0          NaN      0.0           NaN   \n",
       "8923833          1080.0      B     1.0         30.0      1.0           9.0   \n",
       "8925238          7700.0      W     0.0          NaN      0.0           NaN   \n",
       "9011161          2800.0      F     0.0          NaN      0.0           NaN   \n",
       "9010561          3680.0      F     0.0          NaN      1.0           NaN   \n",
       "\n",
       "            num_facades building_state  equipped_kitchen  furnished  \\\n",
       "immoweb_id                                                            \n",
       "9074272             3.0           good               1.0        0.0   \n",
       "9063818             NaN            new               1.0        0.0   \n",
       "9066369             2.0            new               1.0        0.0   \n",
       "9071922             2.0           good               1.0        0.0   \n",
       "9059600             NaN            new               1.0        0.0   \n",
       "...                 ...            ...               ...        ...   \n",
       "9045748             NaN           None               NaN        0.0   \n",
       "8923833             2.0    to_renovate               NaN        0.0   \n",
       "8925238             NaN           None               NaN        0.0   \n",
       "9011161             2.0           None               NaN        0.0   \n",
       "9010561             NaN           None               NaN        0.0   \n",
       "\n",
       "            open_fire  swimming_pool  land_area  immoweb_id  \n",
       "immoweb_id                                                   \n",
       "9074272           0.0            0.0        NaN     9074272  \n",
       "9063818           0.0            0.0        NaN     9063818  \n",
       "9066369           0.0            0.0        NaN     9066369  \n",
       "9071922           0.0            0.0        NaN     9071922  \n",
       "9059600           0.0            0.0        NaN     9059600  \n",
       "...               ...            ...        ...         ...  \n",
       "9045748           0.0            0.0        NaN     9045748  \n",
       "8923833           0.0            0.0        NaN     8923833  \n",
       "8925238           0.0            0.0        NaN     8925238  \n",
       "9011161           0.0            0.0        NaN     9011161  \n",
       "9010561           0.0            0.0        NaN     9010561  \n",
       "\n",
       "[9190 rows x 19 columns]"
      ],
      "text/html": "<div>\n<style scoped>\n    .dataframe tbody tr th:only-of-type {\n        vertical-align: middle;\n    }\n\n    .dataframe tbody tr th {\n        vertical-align: top;\n    }\n\n    .dataframe thead th {\n        text-align: right;\n    }\n</style>\n<table border=\"1\" class=\"dataframe\">\n  <thead>\n    <tr style=\"text-align: right;\">\n      <th></th>\n      <th>price</th>\n      <th>is_house</th>\n      <th>subtype_property</th>\n      <th>area</th>\n      <th>num_rooms</th>\n      <th>postal_code</th>\n      <th>region</th>\n      <th>garden</th>\n      <th>garden_area</th>\n      <th>terrace</th>\n      <th>terrace_area</th>\n      <th>num_facades</th>\n      <th>building_state</th>\n      <th>equipped_kitchen</th>\n      <th>furnished</th>\n      <th>open_fire</th>\n      <th>swimming_pool</th>\n      <th>land_area</th>\n      <th>immoweb_id</th>\n    </tr>\n    <tr>\n      <th>immoweb_id</th>\n      <th></th>\n      <th></th>\n      <th></th>\n      <th></th>\n      <th></th>\n      <th></th>\n      <th></th>\n      <th></th>\n      <th></th>\n      <th></th>\n      <th></th>\n      <th></th>\n      <th></th>\n      <th></th>\n      <th></th>\n      <th></th>\n      <th></th>\n      <th></th>\n      <th></th>\n    </tr>\n  </thead>\n  <tbody>\n    <tr>\n      <th>9074272</th>\n      <td>219000.0</td>\n      <td>0.0</td>\n      <td>PENTHOUSE</td>\n      <td>90.0</td>\n      <td>2.0</td>\n      <td>8930.0</td>\n      <td>F</td>\n      <td>0.0</td>\n      <td>NaN</td>\n      <td>1.0</td>\n      <td>110.0</td>\n      <td>3.0</td>\n      <td>good</td>\n      <td>1.0</td>\n      <td>0.0</td>\n      <td>0.0</td>\n      <td>0.0</td>\n      <td>NaN</td>\n      <td>9074272</td>\n    </tr>\n    <tr>\n      <th>9063818</th>\n      <td>754500.0</td>\n      <td>0.0</td>\n      <td>PENTHOUSE</td>\n      <td>159.0</td>\n      <td>2.0</td>\n      <td>1200.0</td>\n      <td>B</td>\n      <td>0.0</td>\n      <td>NaN</td>\n      <td>1.0</td>\n      <td>74.0</td>\n      <td>NaN</td>\n      <td>new</td>\n      <td>1.0</td>\n      <td>0.0</td>\n      <td>0.0</td>\n      <td>0.0</td>\n      <td>NaN</td>\n      <td>9063818</td>\n    </tr>\n    <tr>\n      <th>9066369</th>\n      <td>385000.0</td>\n      <td>0.0</td>\n      <td>PENTHOUSE</td>\n      <td>128.0</td>\n      <td>2.0</td>\n      <td>1180.0</td>\n      <td>B</td>\n      <td>0.0</td>\n      <td>NaN</td>\n      <td>1.0</td>\n      <td>18.0</td>\n      <td>2.0</td>\n      <td>new</td>\n      <td>1.0</td>\n      <td>0.0</td>\n      <td>0.0</td>\n      <td>0.0</td>\n      <td>NaN</td>\n      <td>9066369</td>\n    </tr>\n    <tr>\n      <th>9071922</th>\n      <td>227500.0</td>\n      <td>0.0</td>\n      <td>DUPLEX</td>\n      <td>90.0</td>\n      <td>2.0</td>\n      <td>1785.0</td>\n      <td>F</td>\n      <td>0.0</td>\n      <td>NaN</td>\n      <td>1.0</td>\n      <td>5.0</td>\n      <td>2.0</td>\n      <td>good</td>\n      <td>1.0</td>\n      <td>0.0</td>\n      <td>0.0</td>\n      <td>0.0</td>\n      <td>NaN</td>\n      <td>9071922</td>\n    </tr>\n    <tr>\n      <th>9059600</th>\n      <td>615000.0</td>\n      <td>0.0</td>\n      <td>PENTHOUSE</td>\n      <td>169.0</td>\n      <td>3.0</td>\n      <td>1200.0</td>\n      <td>B</td>\n      <td>0.0</td>\n      <td>NaN</td>\n      <td>1.0</td>\n      <td>86.0</td>\n      <td>NaN</td>\n      <td>new</td>\n      <td>1.0</td>\n      <td>0.0</td>\n      <td>0.0</td>\n      <td>0.0</td>\n      <td>NaN</td>\n      <td>9059600</td>\n    </tr>\n    <tr>\n      <th>...</th>\n      <td>...</td>\n      <td>...</td>\n      <td>...</td>\n      <td>...</td>\n      <td>...</td>\n      <td>...</td>\n      <td>...</td>\n      <td>...</td>\n      <td>...</td>\n      <td>...</td>\n      <td>...</td>\n      <td>...</td>\n      <td>...</td>\n      <td>...</td>\n      <td>...</td>\n      <td>...</td>\n      <td>...</td>\n      <td>...</td>\n      <td>...</td>\n    </tr>\n    <tr>\n      <th>9045748</th>\n      <td>179000.0</td>\n      <td>0.0</td>\n      <td>GROUND_FLOOR</td>\n      <td>NaN</td>\n      <td>1.0</td>\n      <td>8400.0</td>\n      <td>F</td>\n      <td>0.0</td>\n      <td>NaN</td>\n      <td>0.0</td>\n      <td>NaN</td>\n      <td>NaN</td>\n      <td>None</td>\n      <td>NaN</td>\n      <td>0.0</td>\n      <td>0.0</td>\n      <td>0.0</td>\n      <td>NaN</td>\n      <td>9045748</td>\n    </tr>\n    <tr>\n      <th>8923833</th>\n      <td>199000.0</td>\n      <td>0.0</td>\n      <td>DUPLEX</td>\n      <td>120.0</td>\n      <td>2.0</td>\n      <td>1080.0</td>\n      <td>B</td>\n      <td>1.0</td>\n      <td>30.0</td>\n      <td>1.0</td>\n      <td>9.0</td>\n      <td>2.0</td>\n      <td>to_renovate</td>\n      <td>NaN</td>\n      <td>0.0</td>\n      <td>0.0</td>\n      <td>0.0</td>\n      <td>NaN</td>\n      <td>8923833</td>\n    </tr>\n    <tr>\n      <th>8925238</th>\n      <td>209000.0</td>\n      <td>0.0</td>\n      <td>LOFT</td>\n      <td>NaN</td>\n      <td>0.0</td>\n      <td>7700.0</td>\n      <td>W</td>\n      <td>0.0</td>\n      <td>NaN</td>\n      <td>0.0</td>\n      <td>NaN</td>\n      <td>NaN</td>\n      <td>None</td>\n      <td>NaN</td>\n      <td>0.0</td>\n      <td>0.0</td>\n      <td>0.0</td>\n      <td>NaN</td>\n      <td>8925238</td>\n    </tr>\n    <tr>\n      <th>9011161</th>\n      <td>219000.0</td>\n      <td>0.0</td>\n      <td>KOT</td>\n      <td>NaN</td>\n      <td>2.0</td>\n      <td>2800.0</td>\n      <td>F</td>\n      <td>0.0</td>\n      <td>NaN</td>\n      <td>0.0</td>\n      <td>NaN</td>\n      <td>2.0</td>\n      <td>None</td>\n      <td>NaN</td>\n      <td>0.0</td>\n      <td>0.0</td>\n      <td>0.0</td>\n      <td>NaN</td>\n      <td>9011161</td>\n    </tr>\n    <tr>\n      <th>9010561</th>\n      <td>229000.0</td>\n      <td>0.0</td>\n      <td>DUPLEX</td>\n      <td>100.0</td>\n      <td>2.0</td>\n      <td>3680.0</td>\n      <td>F</td>\n      <td>0.0</td>\n      <td>NaN</td>\n      <td>1.0</td>\n      <td>NaN</td>\n      <td>NaN</td>\n      <td>None</td>\n      <td>NaN</td>\n      <td>0.0</td>\n      <td>0.0</td>\n      <td>0.0</td>\n      <td>NaN</td>\n      <td>9010561</td>\n    </tr>\n  </tbody>\n</table>\n<p>9190 rows × 19 columns</p>\n</div>"
     },
     "metadata": {},
     "execution_count": 4
    }
   ],
   "source": [
    "properties_df"
   ]
  },
  {
   "cell_type": "code",
   "execution_count": null,
   "metadata": {},
   "outputs": [],
   "source": [
    "client = MongoClient('localhost', 27017)\n",
    "\n",
    "db = client.estate\n",
    "\n",
    "estate = db.estate\n",
    "\n",
    "data_db = estate.find()\n",
    "print(data_db[:11])"
   ]
  }
 ]
}